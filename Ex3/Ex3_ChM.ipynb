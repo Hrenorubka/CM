{
 "cells": [
  {
   "cell_type": "markdown",
   "metadata": {},
   "source": [
    "# Задание №3 Вычисление интеграла по формуле Симпсона\n",
    "Выполнил: Ермолаев Илья 381803-3"
   ]
  },
  {
   "cell_type": "code",
   "execution_count": 1,
   "metadata": {},
   "outputs": [],
   "source": [
    "import math"
   ]
  },
  {
   "cell_type": "markdown",
   "metadata": {},
   "source": [
    "Заранее напишем функцию, реализующую формулу Симпсона:"
   ]
  },
  {
   "cell_type": "code",
   "execution_count": 2,
   "metadata": {},
   "outputs": [],
   "source": [
    "def SimpsonFormule(xiLeft, xiRight, fiLeft, fiRight, fiCenter):\n",
    "    hi = (xiRight - xiLeft) / 2.0\n",
    "    return (hi / 3.0) * (fiLeft + 4.0 * fiCenter + fiRight)"
   ]
  },
  {
   "cell_type": "markdown",
   "metadata": {},
   "source": [
    "Зададим начальные условия:"
   ]
  },
  {
   "cell_type": "code",
   "execution_count": 3,
   "metadata": {},
   "outputs": [],
   "source": [
    "def inpFunc(x):\n",
    "    return(1.0 / (x + math.cos(x)))\n",
    "\n",
    "inpEps = 3.0 * 0.0001\n",
    "left = 0.0\n",
    "right = math.pi"
   ]
  },
  {
   "cell_type": "markdown",
   "metadata": {},
   "source": [
    "Зададим начальный шаг:"
   ]
  },
  {
   "cell_type": "code",
   "execution_count": 4,
   "metadata": {},
   "outputs": [],
   "source": [
    "n = 1 # начальное число разбиений\n",
    "h = (right - left) / n # начальный шаг"
   ]
  },
  {
   "cell_type": "markdown",
   "metadata": {},
   "source": [
    "Построим сетку при заданном шаге:"
   ]
  },
  {
   "cell_type": "code",
   "execution_count": 5,
   "metadata": {},
   "outputs": [
    {
     "name": "stdout",
     "output_type": "stream",
     "text": [
      "Полученный интеграл: 2.0430212248094617\n"
     ]
    }
   ],
   "source": [
    "reachedEps = 1.000 # достигнутая погрешность\n",
    "while (reachedEps > inpEps):\n",
    "    n = n * 10\n",
    "    h = (right - left) / n\n",
    "    x = [left]\n",
    "    y = [inpFunc(left)]\n",
    "    tmp = left\n",
    "    for i in range(0, n):\n",
    "        tmp = tmp + h / 2.0\n",
    "        x.append(tmp)\n",
    "        y.append(inpFunc(tmp))\n",
    "        tmp = tmp + h / 2.0\n",
    "        x.append(tmp)\n",
    "        y.append(inpFunc(tmp))\n",
    "    funci = []\n",
    "    for i in range(0, n):\n",
    "        funci.append(SimpsonFormule(x[2 * i], x[2 * i + 2], y[2 * i], y[2 * i + 1], y[2 * i + 2]))\n",
    "    h = (right - left) / (2 * n)\n",
    "    x2 = [left]\n",
    "    y2 = [inpFunc(left)]\n",
    "    tmp = left\n",
    "    for i in range(0, 2 * n):\n",
    "        tmp = tmp + h / 2.0\n",
    "        x2.append(tmp)\n",
    "        y2.append(inpFunc(tmp))\n",
    "        tmp = tmp + h / 2.0\n",
    "        x2.append(tmp)\n",
    "        y2.append(inpFunc(tmp))\n",
    "    funci2 = []\n",
    "    for i in range(0, 2 * n):\n",
    "        funci2.append(SimpsonFormule(x2[2 * i], x2[2 * i + 2], y2[2 * i], y2[2 * i + 1], y2[2 * i + 2]))\n",
    "    reachedEps = abs(funci[0] - funci2[0])\n",
    "    for i in range(1, n):\n",
    "        curEps = abs(funci[i] - funci2[i * 2]) \n",
    "        if (reachedEps < curEps):\n",
    "            reachedEps = curEps\n",
    "resFunc = 0.0 # Результат интегрирования\n",
    "for i in range(len(funci)):\n",
    "    resFunc = resFunc + funci[i]\n",
    "print(\"Полученный интеграл: \" + str(resFunc))"
   ]
  },
  {
   "cell_type": "code",
   "execution_count": null,
   "metadata": {},
   "outputs": [],
   "source": []
  }
 ],
 "metadata": {
  "kernelspec": {
   "display_name": "Python 3",
   "language": "python",
   "name": "python3"
  },
  "language_info": {
   "codemirror_mode": {
    "name": "ipython",
    "version": 3
   },
   "file_extension": ".py",
   "mimetype": "text/x-python",
   "name": "python",
   "nbconvert_exporter": "python",
   "pygments_lexer": "ipython3",
   "version": "3.8.5"
  }
 },
 "nbformat": 4,
 "nbformat_minor": 4
}
