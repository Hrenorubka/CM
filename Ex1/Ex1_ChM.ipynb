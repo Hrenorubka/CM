{
 "cells": [
  {
   "cell_type": "markdown",
   "metadata": {},
   "source": [
    "# Задание №1 Интерполяционный полином\n",
    "\n",
    "Выполнил: Ермолаев Илья 381803-3"
   ]
  },
  {
   "cell_type": "markdown",
   "metadata": {},
   "source": [
    "Зададим начальные условия"
   ]
  },
  {
   "cell_type": "code",
   "execution_count": 1,
   "metadata": {},
   "outputs": [],
   "source": [
    "x = [1.0, 1.1, 1.2, 1.3, 1.4];\n",
    "y = [0.000000, 0.095310, 0.182322, 0.262364, 0.336472];"
   ]
  },
  {
   "cell_type": "markdown",
   "metadata": {},
   "source": [
    "Наши входные данные:"
   ]
  },
  {
   "cell_type": "code",
   "execution_count": 2,
   "metadata": {},
   "outputs": [
    {
     "name": "stdout",
     "output_type": "stream",
     "text": [
      "[1.0, 1.1, 1.2, 1.3, 1.4]\n",
      "[0.0, 0.09531, 0.182322, 0.262364, 0.336472]\n"
     ]
    }
   ],
   "source": [
    "print(x);\n",
    "print(y);"
   ]
  },
  {
   "cell_type": "markdown",
   "metadata": {},
   "source": [
    "Зададим точку, в которой хотим получить результат интерполирования:"
   ]
  },
  {
   "cell_type": "code",
   "execution_count": 3,
   "metadata": {},
   "outputs": [],
   "source": [
    "inp_x = 1.23;"
   ]
  },
  {
   "cell_type": "code",
   "execution_count": 4,
   "metadata": {},
   "outputs": [],
   "source": [
    "def getPolLagrJ(x, inp_x, power, i_start, j):\n",
    "    tmp_P = 1.0;\n",
    "    for i in range(power + 1):\n",
    "            if (j != i):\n",
    "                tmp_P *= (inp_x - x[i + i_start]) / (x[j + i_start] - x[i + i_start]);\n",
    "    return tmp_P;"
   ]
  },
  {
   "cell_type": "code",
   "execution_count": 5,
   "metadata": {},
   "outputs": [],
   "source": [
    "def getValPol(x, y, inp_x, power, i_start):\n",
    "    P_pow_x = 0.0;\n",
    "    for j in range(power + 1):\n",
    "        P_pow_x += (y[j + i_start] * getPolLagrJ(x, inp_x, power, i_start, j));\n",
    "    return P_pow_x;"
   ]
  },
  {
   "cell_type": "markdown",
   "metadata": {},
   "source": [
    "Найдем значение функции в заданной точке, с помощью интерполяционного полинома.\n",
    "\n",
    "1-ой степени:"
   ]
  },
  {
   "cell_type": "code",
   "execution_count": 6,
   "metadata": {},
   "outputs": [
    {
     "name": "stdout",
     "output_type": "stream",
     "text": [
      "Значение интерполяционного полинома в заданной точке:\n",
      " 0.20633459999999998\n"
     ]
    }
   ],
   "source": [
    "power = 1;\n",
    "i_start = 2;\n",
    "P_1_x = getValPol(x, y, inp_x, power, i_start);\n",
    "print(\"Значение интерполяционного полинома в заданной точке:\\n\", P_1_x);"
   ]
  },
  {
   "cell_type": "markdown",
   "metadata": {},
   "source": [
    "2-ой степени, взяв узлы с x = 1.1 по x = 1.3:"
   ]
  },
  {
   "cell_type": "code",
   "execution_count": 7,
   "metadata": {},
   "outputs": [
    {
     "name": "stdout",
     "output_type": "stream",
     "text": [
      "Значение интерполяционного полинома в заданной точке:\n",
      " 0.20706645000000004\n"
     ]
    }
   ],
   "source": [
    "power = 2;\n",
    "i_start = 1;\n",
    "P_2_x_1 = getValPol(x, y, inp_x, power, i_start);\n",
    "print(\"Значение интерполяционного полинома в заданной точке:\\n\", P_2_x_1);"
   ]
  },
  {
   "cell_type": "markdown",
   "metadata": {},
   "source": [
    "2-ой степени, взяв узлы с x = 1.2 по x = 1.4:"
   ]
  },
  {
   "cell_type": "code",
   "execution_count": 8,
   "metadata": {
    "scrolled": true
   },
   "outputs": [
    {
     "name": "stdout",
     "output_type": "stream",
     "text": [
      "Значение интерполяционного полинома в заданной точке:\n",
      " 0.20695766999999998\n"
     ]
    }
   ],
   "source": [
    "power = 2;\n",
    "i_start = 2;\n",
    "P_2_x_2 = getValPol(x, y, inp_x, power, i_start);\n",
    "print(\"Значение интерполяционного полинома в заданной точке:\\n\", P_2_x_2);"
   ]
  },
  {
   "cell_type": "markdown",
   "metadata": {},
   "source": [
    "# Итог\n",
    "Значение интерполяционного полинома 1-ой степени в заданной точке:"
   ]
  },
  {
   "cell_type": "code",
   "execution_count": 9,
   "metadata": {},
   "outputs": [
    {
     "name": "stdout",
     "output_type": "stream",
     "text": [
      "0.20633459999999998\n"
     ]
    }
   ],
   "source": [
    "print(P_1_x);"
   ]
  },
  {
   "cell_type": "markdown",
   "metadata": {},
   "source": [
    "Значение интерполяционного полинома 2-ой степени в заданной точке, взяв узлы с x = 1.1 по x = 1.3:"
   ]
  },
  {
   "cell_type": "code",
   "execution_count": 10,
   "metadata": {},
   "outputs": [
    {
     "name": "stdout",
     "output_type": "stream",
     "text": [
      "0.20706645000000004\n"
     ]
    }
   ],
   "source": [
    "print(P_2_x_1);"
   ]
  },
  {
   "cell_type": "markdown",
   "metadata": {},
   "source": [
    "Значение интерполяционного полинома 2-ой степени в заданной точке, взяв узлы с x = 1.2 по x = 1.4:"
   ]
  },
  {
   "cell_type": "code",
   "execution_count": 11,
   "metadata": {},
   "outputs": [
    {
     "name": "stdout",
     "output_type": "stream",
     "text": [
      "0.20695766999999998\n"
     ]
    }
   ],
   "source": [
    "print(P_2_x_2);"
   ]
  },
  {
   "cell_type": "code",
   "execution_count": null,
   "metadata": {},
   "outputs": [],
   "source": []
  }
 ],
 "metadata": {
  "kernelspec": {
   "display_name": "Python 3",
   "language": "python",
   "name": "python3"
  },
  "language_info": {
   "codemirror_mode": {
    "name": "ipython",
    "version": 3
   },
   "file_extension": ".py",
   "mimetype": "text/x-python",
   "name": "python",
   "nbconvert_exporter": "python",
   "pygments_lexer": "ipython3",
   "version": "3.8.5"
  }
 },
 "nbformat": 4,
 "nbformat_minor": 4
}
