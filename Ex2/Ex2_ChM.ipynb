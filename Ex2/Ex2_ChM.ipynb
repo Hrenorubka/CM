{
 "cells": [
  {
   "cell_type": "markdown",
   "metadata": {},
   "source": [
    "# Задание №2. Вычисление производной.\n",
    "\n",
    "Выполнил: Ермолаев Илья 381803-3"
   ]
  },
  {
   "cell_type": "code",
   "execution_count": 1,
   "metadata": {},
   "outputs": [],
   "source": [
    "import decimal;\n",
    "import math;"
   ]
  },
  {
   "cell_type": "code",
   "execution_count": 2,
   "metadata": {},
   "outputs": [],
   "source": [
    "def CreateFiniteDifferences(diff_y, order):\n",
    "    if (order <= 0):\n",
    "        return diff_y;\n",
    "    out = [];\n",
    "    for i in range(len(diff_y) - 1):\n",
    "        out.append(diff_y[i + 1] - diff_y[i]);\n",
    "    return CreateFiniteDifferences(out, order - 1);"
   ]
  },
  {
   "cell_type": "markdown",
   "metadata": {},
   "source": [
    "Зададим начальный шаг, его изменение и точку в которой хотим посчитать производную:"
   ]
  },
  {
   "cell_type": "code",
   "execution_count": 3,
   "metadata": {
    "scrolled": true
   },
   "outputs": [
    {
     "name": "stdout",
     "output_type": "stream",
     "text": [
      "Текущий шаг: 0.1000000000000000055511151231\n",
      "Значения узлов point_x[i] для данного шага: 1.05\n",
      "Значения узлов point_x[i] для данного шага: 1.15\n",
      "Значения узлов point_x[i] для данного шага: 1.25\n",
      "Значения point_y[i] в узлах x_point[i]: 2.8577\n",
      "Значения point_y[i] в узлах x_point[i]: 3.1582\n",
      "Значения point_y[i] в узлах x_point[i]: 3.4903\n",
      "Значение производной = 3.1630 при h = 0.1\n",
      "Текущий шаг: 0.09\n",
      "Значения узлов point_x[i] для данного шага: 1.06\n",
      "Значения узлов point_x[i] для данного шага: 1.15\n",
      "Значения узлов point_x[i] для данного шага: 1.24\n",
      "Значения point_y[i] в узлах x_point[i]: 2.8864\n",
      "Значения point_y[i] в узлах x_point[i]: 3.1582\n",
      "Значения point_y[i] в узлах x_point[i]: 3.4556\n",
      "Значение производной = 3.1622 при h = 0.09\n",
      "Текущий шаг: 0.08\n",
      "Значения узлов point_x[i] для данного шага: 1.07\n",
      "Значения узлов point_x[i] для данного шага: 1.15\n",
      "Значения узлов point_x[i] для данного шага: 1.23\n",
      "Значения point_y[i] в узлах x_point[i]: 2.9154\n",
      "Значения point_y[i] в узлах x_point[i]: 3.1582\n",
      "Значения point_y[i] в узлах x_point[i]: 3.4212\n",
      "Значение производной = 3.1612 при h = 0.08\n",
      "Текущий шаг: 0.07\n",
      "Значения узлов point_x[i] для данного шага: 1.08\n",
      "Значения узлов point_x[i] для данного шага: 1.15\n",
      "Значения узлов point_x[i] для данного шага: 1.22\n",
      "Значения point_y[i] в узлах x_point[i]: 2.9447\n",
      "Значения point_y[i] в узлах x_point[i]: 3.1582\n",
      "Значения point_y[i] в узлах x_point[i]: 3.3872\n",
      "Значение производной = 3.1607 при h = 0.07\n",
      "Текущий шаг: 0.06\n",
      "Значения узлов point_x[i] для данного шага: 1.09\n",
      "Значения узлов point_x[i] для данного шага: 1.15\n",
      "Значения узлов point_x[i] для данного шага: 1.21\n",
      "Значения point_y[i] в узлах x_point[i]: 2.9743\n",
      "Значения point_y[i] в узлах x_point[i]: 3.1582\n",
      "Значения point_y[i] в узлах x_point[i]: 3.3535\n",
      "Значение производной = 3.1600 при h = 0.06\n",
      "Текущий шаг: 0.05\n",
      "Значения узлов point_x[i] для данного шага: 1.1\n",
      "Значения узлов point_x[i] для данного шага: 1.15\n",
      "Значения узлов point_x[i] для данного шага: 1.2\n",
      "Значения point_y[i] в узлах x_point[i]: 3.0042\n",
      "Значения point_y[i] в узлах x_point[i]: 3.1582\n",
      "Значения point_y[i] в узлах x_point[i]: 3.3201\n",
      "Значение производной = 3.1590 при h = 0.05\n",
      "Текущий шаг: 0.04\n",
      "Значения узлов point_x[i] для данного шага: 1.11\n",
      "Значения узлов point_x[i] для данного шага: 1.15\n",
      "Значения узлов point_x[i] для данного шага: 1.19\n",
      "Значения point_y[i] в узлах x_point[i]: 3.0344\n",
      "Значения point_y[i] в узлах x_point[i]: 3.1582\n",
      "Значения point_y[i] в узлах x_point[i]: 3.2871\n",
      "Значение производной = 3.1587 при h = 0.04\n",
      "Текущий шаг: 0.03\n",
      "Значения узлов point_x[i] для данного шага: 1.12\n",
      "Значения узлов point_x[i] для данного шага: 1.15\n",
      "Значения узлов point_x[i] для данного шага: 1.18\n",
      "Значения point_y[i] в узлах x_point[i]: 3.0649\n",
      "Значения point_y[i] в узлах x_point[i]: 3.1582\n",
      "Значения point_y[i] в узлах x_point[i]: 3.2544\n",
      "Значение производной = 3.1583 при h = 0.03\n",
      "Текущий шаг: 0.02\n",
      "Значения узлов point_x[i] для данного шага: 1.13\n",
      "Значения узлов point_x[i] для данного шага: 1.15\n",
      "Значения узлов point_x[i] для данного шага: 1.17\n",
      "Значения point_y[i] в узлах x_point[i]: 3.0957\n",
      "Значения point_y[i] в узлах x_point[i]: 3.1582\n",
      "Значения point_y[i] в узлах x_point[i]: 3.2220\n",
      "Значение производной = 3.1575 при h = 0.02\n",
      "Текущий шаг: 0.01\n",
      "Значения узлов point_x[i] для данного шага: 1.14\n",
      "Значения узлов point_x[i] для данного шага: 1.15\n",
      "Значения узлов point_x[i] для данного шага: 1.16\n",
      "Значения point_y[i] в узлах x_point[i]: 3.1268\n",
      "Значения point_y[i] в узлах x_point[i]: 3.1582\n",
      "Значения point_y[i] в узлах x_point[i]: 3.1899\n",
      "Значение производной = 3.1550 при h = 0.01\n"
     ]
    }
   ],
   "source": [
    "start_h = 0.1;\n",
    "end_h = 0.01;\n",
    "delta_h = 0.01;\n",
    "inp_x = 1.15;\n",
    "i_h = start_h;\n",
    "value_derivative = [];\n",
    "while i_h >= end_h:\n",
    "    i_h_printable = decimal.Decimal(i_h).normalize();\n",
    "    print(\"Текущий шаг: \" + str(i_h_printable));\n",
    "    point_x = [inp_x - i_h, inp_x, inp_x + i_h]; \n",
    "    point_y = [];\n",
    "    decimal.getcontext().prec = 5;\n",
    "    # Найдем 3 значения функции для нашего шага, в точках f(inp_x - h), f(inp_x), f(inp_x + h)\n",
    "    for i in range(0, 3):\n",
    "        print('Значения узлов point_x[i] для данного шага: ' + str(decimal.Decimal(point_x[i]).normalize()));\n",
    "        point_y.append(decimal.Decimal(point_x[i]).exp());\n",
    "    # Найденные значения функции в точках:\n",
    "    for i in point_y:\n",
    "        print('Значения point_y[i] в узлах x_point[i]: ' + str(i));\n",
    "    derivative = (point_y[2] - point_y[0]) / decimal.Decimal(2.0 * i_h);\n",
    "    value_derivative.append(derivative);\n",
    "    print('Значение производной = '+ str(derivative) + ' при h = ' + str(i_h_printable.normalize()));\n",
    "    i_h = i_h - delta_h;"
   ]
  },
  {
   "cell_type": "markdown",
   "metadata": {},
   "source": [
    "Итоговые значения:"
   ]
  },
  {
   "cell_type": "code",
   "execution_count": 4,
   "metadata": {},
   "outputs": [
    {
     "name": "stdout",
     "output_type": "stream",
     "text": [
      "Шаг: 0.1000000000000000055511151231    Значение производной: 3.1630\n",
      "\n",
      "Шаг: 0.09000000000000001054711873394    Значение производной: 3.1622\n",
      "\n",
      "Шаг: 0.08000000000000001554312234475    Значение производной: 3.1612\n",
      "\n",
      "Шаг: 0.07000000000000002053912595557    Значение производной: 3.1607\n",
      "\n",
      "Шаг: 0.06000000000000001859623566247    Значение производной: 3.1600\n",
      "\n",
      "Шаг: 0.05000000000000001665334536938    Значение производной: 3.1590\n",
      "\n",
      "Шаг: 0.04000000000000001471045507628    Значение производной: 3.1587\n",
      "\n",
      "Шаг: 0.03000000000000001276756478319    Значение производной: 3.1583\n",
      "\n",
      "Шаг: 0.0200000000000000108246744901    Значение производной: 3.1575\n",
      "\n",
      "Шаг: 0.01000000000000001061650767298    Значение производной: 3.1550\n",
      "\n"
     ]
    }
   ],
   "source": [
    "i_h = start_h;\n",
    "for i in range(10):\n",
    "    i_h_printable = decimal.Decimal(i_h).normalize();\n",
    "    abs_eps = value_derivative[i];\n",
    "    print('Шаг: ' + str(i_h_printable) + '    Значение производной: ' + str(abs_eps) + '\\n');\n",
    "    i_h = i_h - delta_h;"
   ]
  },
  {
   "cell_type": "markdown",
   "metadata": {},
   "source": [
    "Посмотрим на абсолютную погрешность при каждом шаге:"
   ]
  },
  {
   "cell_type": "code",
   "execution_count": 5,
   "metadata": {
    "scrolled": false
   },
   "outputs": [
    {
     "name": "stdout",
     "output_type": "stream",
     "text": [
      "Шаг: 0.1000000000000000055511151231    Абс. погрешность: 0.004807090310232653253178136\n",
      "\n",
      "Шаг: 0.09000000000000001054711873394    Абс. погрешность: 0.004007090310232653253178136\n",
      "\n",
      "Шаг: 0.08000000000000001554312234475    Абс. погрешность: 0.003007090310232653253178136\n",
      "\n",
      "Шаг: 0.07000000000000002053912595557    Абс. погрешность: 0.002507090310232653253178136\n",
      "\n",
      "Шаг: 0.06000000000000001859623566247    Абс. погрешность: 0.001807090310232653253178136\n",
      "\n",
      "Шаг: 0.05000000000000001665334536938    Абс. погрешность: 0.000807090310232653253178136\n",
      "\n",
      "Шаг: 0.04000000000000001471045507628    Абс. погрешность: 0.000507090310232653253178136\n",
      "\n",
      "Шаг: 0.03000000000000001276756478319    Абс. погрешность: 0.000107090310232653253178136\n",
      "\n",
      "Шаг: 0.0200000000000000108246744901    Абс. погрешность: 0.000692909689767346746821864\n",
      "\n",
      "Шаг: 0.01000000000000001061650767298    Абс. погрешность: 0.003192909689767346746821864\n",
      "\n"
     ]
    }
   ],
   "source": [
    "i_h = start_h;\n",
    "for i in range(10):\n",
    "    i_h_printable = decimal.Decimal(i_h).normalize();\n",
    "    abs_eps = (decimal.Decimal(inp_x).exp() - value_derivative[i]).copy_abs();\n",
    "    print('Шаг: ' + str(i_h_printable) + '    Абс. погрешность: ' + str(abs_eps) + '\\n');\n",
    "    i_h = i_h - delta_h;"
   ]
  },
  {
   "cell_type": "markdown",
   "metadata": {},
   "source": [
    "Найдем оптимальный шаг численного дифференцироварния.\n",
    "Для этого возьмем сетку с узлами point_x[] = 1.13 .. 1.17."
   ]
  },
  {
   "cell_type": "code",
   "execution_count": 6,
   "metadata": {},
   "outputs": [],
   "source": [
    "point_x = [1.13, 1.14, 1.15, 1.16, 1.17];"
   ]
  },
  {
   "cell_type": "markdown",
   "metadata": {},
   "source": [
    "Чтобы оценить погрешность оператора, найдем конечные разности 3-его порядка и найдем среди них максимум."
   ]
  },
  {
   "cell_type": "code",
   "execution_count": 7,
   "metadata": {},
   "outputs": [
    {
     "name": "stdout",
     "output_type": "stream",
     "text": [
      "[Decimal('0.00000314249'), Decimal('0.00000317405')]\n",
      "Максимальная конечная разность 3-его порядка: 0.00000317405\n"
     ]
    }
   ],
   "source": [
    "point_y = [];\n",
    "for i in range(len(point_x)):\n",
    "    point_y.append(decimal.Decimal(point_x[i]).exp());\n",
    "decimal.getcontext().prec = 10;\n",
    "dif_y = CreateFiniteDifferences(point_y, 3);\n",
    "print(dif_y);\n",
    "max_dif_y = max(dif_y);\n",
    "print('Максимальная конечная разность 3-его порядка: ' + str(max_dif_y));"
   ]
  },
  {
   "cell_type": "code",
   "execution_count": 8,
   "metadata": {},
   "outputs": [
    {
     "name": "stdout",
     "output_type": "stream",
     "text": [
      "Погрешность оператора: 0.000005290083333\n"
     ]
    }
   ],
   "source": [
    "changeable_const = max_dif_y / decimal.Decimal(0.001);\n",
    "operation_delta = max_dif_y / (decimal.Decimal(6.0) * decimal.Decimal(0.1));\n",
    "print('Погрешность оператора: ' + str(operation_delta));"
   ]
  },
  {
   "cell_type": "markdown",
   "metadata": {},
   "source": [
    "Определим вычислительную погрешность  "
   ]
  },
  {
   "cell_type": "code",
   "execution_count": 9,
   "metadata": {},
   "outputs": [
    {
     "name": "stdout",
     "output_type": "stream",
     "text": [
      "Вычислительная погрешность  0.0005000000000\n"
     ]
    }
   ],
   "source": [
    "variables_delta = decimal.Decimal(0.00005) / decimal.Decimal(0.1);\n",
    "print('Вычислительная погрешность  ' + str(variables_delta));"
   ]
  },
  {
   "cell_type": "markdown",
   "metadata": {},
   "source": [
    "Определим оптимальный шаг:"
   ]
  },
  {
   "cell_type": "code",
   "execution_count": 10,
   "metadata": {
    "scrolled": false
   },
   "outputs": [
    {
     "name": "stdout",
     "output_type": "stream",
     "text": [
      "Оптимальный шаг: 0.04725823475\n"
     ]
    }
   ],
   "source": [
    "optimal_h = (decimal.Decimal(3.0) * decimal.Decimal(0.00005)) / changeable_const;\n",
    "print('Оптимальный шаг: ' + str(optimal_h));"
   ]
  },
  {
   "cell_type": "markdown",
   "metadata": {},
   "source": [
    "# Итог:"
   ]
  },
  {
   "cell_type": "markdown",
   "metadata": {},
   "source": [
    "### Изменение абсолюной погрешности на заданнной сетке при изменении шага сетки:"
   ]
  },
  {
   "cell_type": "code",
   "execution_count": 11,
   "metadata": {},
   "outputs": [
    {
     "name": "stdout",
     "output_type": "stream",
     "text": [
      "Шаг: 0.1    Абс. погрешность: 0.004807090\n",
      "\n",
      "Шаг: 0.09    Абс. погрешность: 0.004007090\n",
      "\n",
      "Шаг: 0.08    Абс. погрешность: 0.003007090\n",
      "\n",
      "Шаг: 0.07    Абс. погрешность: 0.002507090\n",
      "\n",
      "Шаг: 0.06    Абс. погрешность: 0.001807090\n",
      "\n",
      "Шаг: 0.05    Абс. погрешность: 0.000807090\n",
      "\n",
      "Шаг: 0.04    Абс. погрешность: 0.000507090\n",
      "\n",
      "Шаг: 0.03    Абс. погрешность: 0.000107090\n",
      "\n",
      "Шаг: 0.02    Абс. погрешность: 0.000692910\n",
      "\n",
      "Шаг: 0.01    Абс. погрешность: 0.003192910\n",
      "\n"
     ]
    }
   ],
   "source": [
    "i_h = start_h;\n",
    "for i in range(10):\n",
    "    i_h_printable = decimal.Decimal(i_h).normalize();\n",
    "    abs_eps = (decimal.Decimal(inp_x).exp() - value_derivative[i]).copy_abs();\n",
    "    print('Шаг: ' + str(i_h_printable) + '    Абс. погрешность: ' + str(abs_eps) + '\\n');\n",
    "    i_h = i_h - delta_h;"
   ]
  },
  {
   "cell_type": "markdown",
   "metadata": {},
   "source": [
    "### Оценка общей погрешности при шаге 0.1:"
   ]
  },
  {
   "cell_type": "code",
   "execution_count": 12,
   "metadata": {},
   "outputs": [
    {
     "name": "stdout",
     "output_type": "stream",
     "text": [
      "0.0005052900833\n"
     ]
    }
   ],
   "source": [
    "print(operation_delta + variables_delta);"
   ]
  },
  {
   "cell_type": "markdown",
   "metadata": {},
   "source": [
    "### Оптимальный шаг:"
   ]
  },
  {
   "cell_type": "code",
   "execution_count": 13,
   "metadata": {},
   "outputs": [
    {
     "name": "stdout",
     "output_type": "stream",
     "text": [
      "0.04725823475\n"
     ]
    }
   ],
   "source": [
    "print(optimal_h);"
   ]
  },
  {
   "cell_type": "code",
   "execution_count": null,
   "metadata": {},
   "outputs": [],
   "source": []
  }
 ],
 "metadata": {
  "kernelspec": {
   "display_name": "Python 3",
   "language": "python",
   "name": "python3"
  },
  "language_info": {
   "codemirror_mode": {
    "name": "ipython",
    "version": 3
   },
   "file_extension": ".py",
   "mimetype": "text/x-python",
   "name": "python",
   "nbconvert_exporter": "python",
   "pygments_lexer": "ipython3",
   "version": "3.8.5"
  }
 },
 "nbformat": 4,
 "nbformat_minor": 4
}
