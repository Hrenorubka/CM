{
 "cells": [
  {
   "cell_type": "markdown",
   "metadata": {},
   "source": [
    "# Задание №4 Вычисление интеграла по формуле Гауса с 3-мя\n",
    "Выполнил: Ермолаев Илья 381803-3"
   ]
  },
  {
   "cell_type": "code",
   "execution_count": 1,
   "metadata": {},
   "outputs": [],
   "source": [
    "import math"
   ]
  },
  {
   "cell_type": "markdown",
   "metadata": {},
   "source": [
    "Зададим исходную функцию"
   ]
  },
  {
   "cell_type": "code",
   "execution_count": 2,
   "metadata": {},
   "outputs": [],
   "source": [
    "def inpFunc(x):\n",
    "    return math.sqrt(1 + 2 * x)"
   ]
  },
  {
   "cell_type": "code",
   "execution_count": 3,
   "metadata": {},
   "outputs": [],
   "source": [
    "def ReplacementX(left, right, t):\n",
    "    return (right + left) / 2.0 + ((right - left) / 2.0) * t "
   ]
  },
  {
   "cell_type": "markdown",
   "metadata": {},
   "source": [
    "Напишем функцию, реализующую вычисление интеграла по формуле Гаусса с 3-мя узлами:"
   ]
  },
  {
   "cell_type": "code",
   "execution_count": 4,
   "metadata": {},
   "outputs": [],
   "source": [
    "def threeStepGauss(left, right):\n",
    "    x1 = - math.sqrt(3.0 / 5.0)\n",
    "    x2 = 0.0\n",
    "    x3 = math.sqrt(3.0 / 5.0)\n",
    "    x1R = ReplacementX(left, right, x1)\n",
    "    x2R = ReplacementX(left, right, x2)\n",
    "    x3R = ReplacementX(left, right, x3)\n",
    "    eIntegral = (5.0 / 9.0) * inpFunc(x1R) + (8.0 / 9.0) * inpFunc(x2R) + (5.0 / 9.0) * inpFunc(x3R)\n",
    "    return ((right - left) / 2.0) * eIntegral"
   ]
  },
  {
   "cell_type": "markdown",
   "metadata": {},
   "source": [
    "Посчитаем интеграл"
   ]
  },
  {
   "cell_type": "code",
   "execution_count": 5,
   "metadata": {},
   "outputs": [
    {
     "name": "stdout",
     "output_type": "stream",
     "text": [
      "Результат интеграрования: 1.3987314257912353\n"
     ]
    }
   ],
   "source": [
    "left = 0\n",
    "right = 1\n",
    "res = threeStepGauss(left, right)\n",
    "print('Результат интеграрования: ' + str(res))"
   ]
  },
  {
   "cell_type": "markdown",
   "metadata": {},
   "source": [
    "Оценим погрешность\n",
    "\n",
    "Для этого нам нужно узнать какой максимум у 6-ой производной нашей функции на отрезке интегрирования. Это мы сделаем ручками."
   ]
  },
  {
   "cell_type": "code",
   "execution_count": 6,
   "metadata": {},
   "outputs": [
    {
     "name": "stdout",
     "output_type": "stream",
     "text": [
      "8.398421096833795e-09\n"
     ]
    }
   ],
   "source": [
    "maxDerivative = 16.0 / (3.0 * 5.0 * 7.0 * 9.0)\n",
    "maxEps = (maxDerivative * math.pow(math.factorial(3), 4)) / (math.pow(math.factorial(6), 3) * 7.0)\n",
    "print(maxEps)"
   ]
  },
  {
   "cell_type": "markdown",
   "metadata": {},
   "source": [
    "Результат интегрирования нашей функции при помощи Maple 1.398717474235544 ... Странно, что такая оценка у погрешности =(\n",
    "Оставлю еще ссылчку которой пользовался, на всякий случай: https://algowiki-project.org/ru/%D0%9A%D0%B2%D0%B0%D0%B4%D1%80%D0%B0%D1%82%D1%83%D1%80%D0%BD%D1%8B%D0%B5_%D1%84%D0%BE%D1%80%D0%BC%D1%83%D0%BB%D1%8B"
   ]
  }
 ],
 "metadata": {
  "kernelspec": {
   "display_name": "Python 3",
   "language": "python",
   "name": "python3"
  },
  "language_info": {
   "codemirror_mode": {
    "name": "ipython",
    "version": 3
   },
   "file_extension": ".py",
   "mimetype": "text/x-python",
   "name": "python",
   "nbconvert_exporter": "python",
   "pygments_lexer": "ipython3",
   "version": "3.8.5"
  }
 },
 "nbformat": 4,
 "nbformat_minor": 4
}
